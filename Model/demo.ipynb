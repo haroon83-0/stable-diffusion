{
 "cells": [
  {
   "cell_type": "code",
   "execution_count": 3,
   "id": "initial_id",
   "metadata": {
    "collapsed": true,
    "ExecuteTime": {
     "end_time": "2024-11-30T04:06:12.791736600Z",
     "start_time": "2024-11-30T04:06:12.786996800Z"
    }
   },
   "outputs": [],
   "source": [
    "from PIL import Image\n",
    "import load\n",
    "import pipline\n",
    "from transformers import CLIPTokenizer\n",
    "import torch\n",
    "\n",
    "\n",
    "DEVICE = \"cpu\"\n",
    "\n",
    "ALLOW_CUDA = False\n",
    "ALLOW_MPS = False\n",
    "\n",
    "\n",
    "if torch.cuda.is_available() and ALLOW_CUDA:\n",
    "    DEVICE = \"cuda\"\n",
    "elif torch.backends.mps.is_available() and ALLOW_MPS:\n",
    "    DEVICE = \"mps\"\n",
    "\n",
    "print(f\"Using device: {DEVICE}\")\n"
   ]
  },
  {
   "cell_type": "code",
   "execution_count": null,
   "outputs": [],
   "source": [
    "tokenizer = CLIPTokenizer(\"../Data/tokenizer_vocab.json\", merges_file=\"../Data/tokenizer_merges.txt\")\n",
    "model_file = \"../Data/v1-5-pruned-emaonly.ckpt\"\n",
    "models = load.preload_models(model_file, DEVICE)\n",
    "\n",
    "\n",
    "prompt = \"A cat stretching on the floor, highly detailed, ultra sharp, cinematic, 100mm lens, 8k resolution.\"\n",
    "uncond_prompt = \"\" \n",
    "do_cfg = True\n",
    "cfg_scale = 8  \n",
    "\n",
    "\n",
    "\n",
    "input_image = None\n",
    "\n",
    "image_path = \"../images/dog.jpg\"\n",
    "strength = 0.9\n",
    "\n",
    "sampler = \"ddpm\"\n",
    "num_inference_steps = 50\n",
    "seed = 42\n",
    "\n",
    "output_image = pipline.generate(\n",
    "    prompt=prompt,\n",
    "    uncond_prompt=uncond_prompt,\n",
    "    input_image=input_image,\n",
    "    strength=strength,\n",
    "    do_cfg=do_cfg,\n",
    "    cfg_scale=cfg_scale,\n",
    "    sampler_name=sampler,\n",
    "    n_inference_steps=num_inference_steps,\n",
    "    seed=seed,\n",
    "    models=models,\n",
    "    device=DEVICE,\n",
    "    idle_device=\"cpu\",\n",
    "    tokenizer=tokenizer,\n",
    ")\n",
    "\n",
    "Image.fromarray(output_image)"
   ],
   "metadata": {
    "collapsed": false
   },
   "id": "76bad675d6e319bc"
  }
 ],
 "metadata": {
  "kernelspec": {
   "display_name": "Python 3",
   "language": "python",
   "name": "python3"
  },
  "language_info": {
   "codemirror_mode": {
    "name": "ipython",
    "version": 2
   },
   "file_extension": ".py",
   "mimetype": "text/x-python",
   "name": "python",
   "nbconvert_exporter": "python",
   "pygments_lexer": "ipython2",
   "version": "2.7.6"
  }
 },
 "nbformat": 4,
 "nbformat_minor": 5
}
